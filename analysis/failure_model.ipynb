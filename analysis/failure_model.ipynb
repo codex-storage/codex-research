{
  "nbformat": 4,
  "nbformat_minor": 0,
  "metadata": {
    "colab": {
      "name": "Codex",
      "provenance": []
    },
    "kernelspec": {
      "name": "python3",
      "display_name": "Python 3"
    },
    "language_info": {
      "name": "python"
    }
  },
  "cells": [
    {
      "cell_type": "code",
      "execution_count": null,
      "metadata": {
        "id": "LzbZW-vg0z9S"
      },
      "outputs": [],
      "source": [
        ""
      ]
    },
    {
      "cell_type": "markdown",
      "source": [
        "# Model Codex Platform Structure\n",
        "\n",
        "This work attemps to simulate as many details as possible of the Codex platform. The details about the aspects we want to model can be found in the following notes: https://hackmd.io/yTRlMInIRi6fG-nk984ULQ\n",
        "\n",
        "First, we want to build a model of what we expect the Codex platform to look like, in terms of number of nodes, storage used and available, file size distribution, among others."
      ],
      "metadata": {
        "id": "BT9ssm0WZkZL"
      }
    },
    {
      "cell_type": "code",
      "source": [
        "import numpy as np\n",
        "import random as random\n",
        "import matplotlib.pyplot as plt\n",
        "\n",
        "plt.rcParams['figure.figsize'] = [15, 8]\n",
        "\n",
        "\n",
        "#@title Platform parameters\n",
        "\n",
        "#@markdown Number of peers in the network\n",
        "NetworkSize = 5000 #@param {type:\"slider\", min:1, max:10000, step:1}\n",
        "#@markdown Total storage provided in the system (Petabytes)\n",
        "StorageProvided = 5 #@param {type:\"slider\", min:1, max:100, step:1}\n",
        "#@markdown Total storage in use (Petabytes)\n",
        "StorageUsed = 2 #@param {type:\"slider\", min:1, max:100, step:1}\n",
        "#@markdown Variance in storage offered by nodes (%)\n",
        "StorageVariance = 40 #@param {type:\"slider\", min:1, max:50, step:1}\n",
        "#@markdown Mean file size (Kilobytes)\n",
        "MeanFileSize = 4096 #@param {type:\"slider\", min:1, max:1048576, step:128}\n",
        "#@markdown Block size for erasure coding (Kilobytes)\n",
        "BlockSize = 4 #@param {type:\"slider\", min:1, max:32, step:1}\n",
        "\n",
        "totalUsed = 0\n",
        "totalFree = 0\n",
        "nodesProvided = [0]*NetworkSize\n",
        "nodesUsed = [0]*NetworkSize\n",
        "nodesFree = [0]*NetworkSize\n",
        "for i in range(NetworkSize):\n",
        "  sign = random.randint(-1,1)\n",
        "  variance = random.random() * StorageVariance / 100\n",
        "  nodesProvided[i] = (StorageProvided*1024/NetworkSize)+(sign*variance*(StorageProvided*1024/NetworkSize))\n",
        "  nodesUsed[i] = (StorageUsed*1024/NetworkSize)+(sign*variance*(StorageUsed*1024/NetworkSize))\n",
        "  nodesFree[i] = nodesProvided[i] - nodesUsed[i]\n",
        "  totalUsed += nodesUsed[i]\n",
        "  totalFree += nodesFree[i]\n",
        "\n",
        "def plotDist(nodesUsed, nodesFree):\n",
        "  x = np.arange(len(nodesFree))\n",
        "  plt.rcParams['figure.figsize'] = [15, 8]\n",
        "  plt.subplot(211)\n",
        "  plt.xlabel(\"Nodes\")\n",
        "  plt.ylabel(\"Storage Provided (Terabytes)\")\n",
        "  plt.bar(x-1, nodesUsed, label=\"Used\")\n",
        "  plt.bar(x-1, nodesFree, label=\"Free\", bottom=nodesUsed)\n",
        "  plt.legend(loc=\"upper left\")\n",
        "\n",
        " \n",
        "print(\"Total storage used: %f Terabytes\" % totalUsed)\n",
        "print(\"Total storage free: %f Terabytes\" % totalFree)\n",
        "print(\"Total number of blocks in the system: %i\" % (totalUsed*1024*1024/BlockSize)) \n",
        "print(\"Total number of files in the system: %i\" % (totalUsed*1024*1024/MeanFileSize)) \n",
        "plotDist(nodesUsed, nodesFree)"
      ],
      "metadata": {
        "colab": {
          "base_uri": "https://localhost:8080/",
          "height": 329
        },
        "id": "1mfYz2oeaWZS",
        "outputId": "5617edd4-99a7-4822-c916-2292d965793d"
      },
      "execution_count": null,
      "outputs": [
        {
          "output_type": "stream",
          "name": "stdout",
          "text": [
            "Total storage used: 2054.255442 Terabytes\n",
            "Total storage free: 3081.383163 Terabytes\n",
            "Total number of blocks in the system: 538510738\n",
            "Total number of files in the system: 525889\n"
          ]
        },
        {
          "output_type": "display_data",
          "data": {
            "text/plain": [
              "<Figure size 1080x576 with 1 Axes>"
            ],
            "image/png": "[encoded data removed]"
          },
          "metadata": {
            "needs_background": "light"
          }
        }
      ]
    },
    {
      "cell_type": "markdown",
      "source": [
        "# Failure Model\n",
        "\n",
        "Here we try to capture the most common type of failures and their impact in the system."
      ],
      "metadata": {
        "id": "0BdiiYaXNpnR"
      }
    },
    {
      "cell_type": "code",
      "source": [
        "#@title Failure model parameters\n",
        "\n",
        "#@markdown Annual Failure Rate (% of network nodes down per year)\n",
        "AnnualFailureRate = 3 #@param {type:\"slider\", min:1, max:10, step:1}\n",
        "#@markdown Number of correlated failures event per year\n",
        "CorrelatedFailureEvents = 1 #@param {type:\"slider\", min:0, max:10, step:1}\n",
        "#@markdown Number of nodes affected by correlated failures \n",
        "CorrelatedFailureImpact = 100 #@param {type:\"slider\", min:2, max:1000, step:1}\n",
        "\n",
        "AnnualNodesFailed = NetworkSize*AnnualFailureRate/100\n",
        "MeanTimeBetweenFailures = 365*24/AnnualNodesFailed\n",
        "\n",
        "print(\"Number of nodes failed per year: %i\" % AnnualNodesFailed)\n",
        "print(\"Mean time between failures: %i hours\" % MeanTimeBetweenFailures)"
      ],
      "metadata": {
        "colab": {
          "base_uri": "https://localhost:8080/"
        },
        "id": "75TtMGepOxl7",
        "outputId": "72c29478-8c72-4eb9-fc1a-bb5cc637f553"
      },
      "execution_count": null,
      "outputs": [
        {
          "output_type": "stream",
          "name": "stdout",
          "text": [
            "Number of nodes failed per year: 150\n",
            "Mean time between failures: 58 hours\n"
          ]
        }
      ]
    }
  ]
}